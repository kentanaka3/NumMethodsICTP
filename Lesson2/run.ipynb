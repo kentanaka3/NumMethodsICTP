{
 "cells": [
  {
   "cell_type": "code",
   "execution_count": 21,
   "metadata": {},
   "outputs": [
    {
     "data": {
      "text/plain": [
       "1"
      ]
     },
     "execution_count": 21,
     "metadata": {},
     "output_type": "execute_result"
    }
   ],
   "source": [
    "def Fibonacci(n: int, k: int) -> int:\n",
    "  prev = 0\n",
    "  S = 1\n",
    "  if n == 0: return 0\n",
    "  for i in range(n):\n",
    "    prev, S = S, S + prev\n",
    "  return S*k\n",
    "\n",
    "Fibonacci(1, 1)"
   ]
  },
  {
   "cell_type": "code",
   "execution_count": 13,
   "metadata": {},
   "outputs": [
    {
     "data": {
      "text/plain": [
       "'CTATATCTGGCCAGTTTGAGAGGTTGCATACTGTCGGCTGGACTGTTAAGAGAGCCGCCTGTGATATTAAACGGACCAACGATCAGGTTGAGTTCCACTCTAATCGTGTGACTACACTTCAAATTTTTGGAACTCGACATGAATTTCCGATAAAGTGTCAGCTTACACTATGCTTTATAAACGGATAATTGAGCGGAGGTACGGATTCCCCTGATAACCTCGCAACCATACAAACAGGATCTCACGCAATGTGTCGCCATACTAAAGTGGTGAAGTGGGAAAATATGGCCGCTCTATAGAGGCCTTGTACACATCCGTTGAGACGAAGGAGTTTAGGTAAGCGTACATGTATTCTGAAACGGTGACCGGCACGAAGCGCGAGAGCCTCAAAAACCTCATCCCTGCCACGCGGGACTGTTTTCGTGCTTGACATCAAGTTCATTTTGCTCATCAACTTCCATACGACAACCTGCCCACGGCAGGGATTGCGCCAACATGGTAGATGGCCGCGTATGGGGTCTGGTGCACTACTGTCCACAAACTGCTGGCGGTTATACGAACGAGCATCGTTCATGCGACCGGCTACCCCTACTTTGTCTCGTTAAGTTGAGCTTGCCACACCTGTAAAATATAACTATTATATGACGCTTCATGTCGCATCGAACCTAGGGTATGATTGGCCATATCACCTATAGAAGATGGCTTTGTCCTACCCAGATTGTCAATGCTTGTTCAACGTTGCGAGAGTTTCCCCCCGATGGAAATTAACAAGTTACATGCCTGTCATGCATTGAATCCTCGATGTATCGCAGTGCGGTCTGGTAAAATC'"
      ]
     },
     "execution_count": 13,
     "metadata": {},
     "output_type": "execute_result"
    }
   ],
   "source": [
    "import os\n",
    "def DNA(fpath: str) -> str:\n",
    "  complements = {\n",
    "    \"A\" : \"T\",\n",
    "    \"T\" : \"A\",\n",
    "    \"C\" : \"G\",\n",
    "    \"G\" : \"C\",\n",
    "  }\n",
    "  with open(os.path.join(os.getcwd(), fpath), \"r\") as fobj:\n",
    "    dna = fobj.readline()[:-1]\n",
    "  return \"\".join([complements[a] for a in dna])\n",
    "\n",
    "DNA(\"data_2.txt\")"
   ]
  },
  {
   "cell_type": "code",
   "execution_count": 23,
   "metadata": {},
   "outputs": [
    {
     "data": {
      "text/plain": [
       "115256.03748000061"
      ]
     },
     "execution_count": 23,
     "metadata": {},
     "output_type": "execute_result"
    }
   ],
   "source": [
    "import os\n",
    "def w8s(w8path: str, aminopath: str) -> float:\n",
    "  w8s = {\"\\n\" : 0}\n",
    "  with open(os.path.join(os.getcwd(), w8path), \"r\") as fobj:\n",
    "    w8s = {l: float(val) for l, val in [line.split(\" \") for line in fobj.readlines()]}\n",
    "  with open(os.path.join(os.getcwd(), aminopath), \"r\") as fobj:\n",
    "    aminoacid = fobj.readline()[:-1]\n",
    "  return sum([w8s[l] for l in aminoacid])\n",
    "w8s(\"amino_acid_weights.txt\", \"data_3.txt\")"
   ]
  },
  {
   "cell_type": "code",
   "execution_count": 9,
   "metadata": {},
   "outputs": [
    {
     "data": {
      "text/plain": [
       "0"
      ]
     },
     "execution_count": 9,
     "metadata": {},
     "output_type": "execute_result"
    }
   ],
   "source": [
    "def dist_obs(fpath: str, a: int, b: int) -> str:\n",
    "  with open(os.path.join(os.getcwd(), fpath), \"r\") as fobj:\n",
    "    lines = [i[:-1] for i in fobj.readlines() if not i.startswith(\">\")]\n",
    "  return sum([0 if i == j else 1 for i, j in zip(lines[a], lines[b])])\n",
    "dist_obs(\"data_4.txt\", 1, 1)"
   ]
  },
  {
   "cell_type": "code",
   "execution_count": null,
   "metadata": {},
   "outputs": [],
   "source": []
  }
 ],
 "metadata": {
  "kernelspec": {
   "display_name": "Python 3.10.4 64-bit",
   "language": "python",
   "name": "python3"
  },
  "language_info": {
   "codemirror_mode": {
    "name": "ipython",
    "version": 3
   },
   "file_extension": ".py",
   "mimetype": "text/x-python",
   "name": "python",
   "nbconvert_exporter": "python",
   "pygments_lexer": "ipython3",
   "version": "3.10.4"
  },
  "orig_nbformat": 4,
  "vscode": {
   "interpreter": {
    "hash": "916dbcbb3f70747c44a77c7bcd40155683ae19c65e1c03b4aa3499c5328201f1"
   }
  }
 },
 "nbformat": 4,
 "nbformat_minor": 2
}
