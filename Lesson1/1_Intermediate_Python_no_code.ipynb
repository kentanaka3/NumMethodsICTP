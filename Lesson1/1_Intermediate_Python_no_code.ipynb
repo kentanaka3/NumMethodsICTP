{
 "cells": [
  {
   "cell_type": "markdown",
   "id": "eed68ae2",
   "metadata": {},
   "source": [
    "# 1 - Intermediate Python\n",
    "\n",
    "<b>Summary</b>:\n",
    "> * Loops\n",
    ">> * `while`\n",
    ">> * `for`\n",
    ">> * `range` function\n",
    ">> * `break` statement\n",
    ">> * List comprehensions\n",
    "> * Functions\n",
    ">> * Defining a function\n",
    ">> * `return` statement\n",
    ">> * Documentation strings\n",
    ">> * Default arguments\n",
    "> * Classes\n",
    ">> * Creating classes\n",
    ">> * Working with classes\n",
    "> * Reading and writing files\n",
    "\n",
    "For more details see: \n",
    "- https://docs.python.org/3/tutorial/controlflow.html \n",
    "- https://docs.python.org/3/tutorial/controlflow.html#defining-functions\n",
    "- https://docs.python.org/3.7/tutorial/classes.html\n",
    "- https://docs.python.org/3/tutorial/inputoutput.html"
   ]
  },
  {
   "cell_type": "markdown",
   "id": "ba55230b",
   "metadata": {},
   "source": [
    "## Loops\n",
    "\n",
    "### `while`\n",
    "\n",
    "It repeats the body until the condition remains true."
   ]
  },
  {
   "cell_type": "code",
   "execution_count": 2,
   "id": "dc87dcd5",
   "metadata": {},
   "outputs": [
    {
     "name": "stdout",
     "output_type": "stream",
     "text": [
      "0\n",
      "1\n",
      "2\n",
      "3\n",
      "4\n"
     ]
    }
   ],
   "source": [
    "a = 0\n",
    "while a < 5:\n",
    "  print(a)\n",
    "  a += 1"
   ]
  },
  {
   "cell_type": "markdown",
   "id": "191e9efa",
   "metadata": {},
   "source": [
    "### `for`\n",
    "Iterates over the objects in a list/tuple."
   ]
  },
  {
   "cell_type": "code",
   "execution_count": null,
   "id": "64c5651a",
   "metadata": {},
   "outputs": [],
   "source": [
    "words = [\"cat\", \"window\", \"defenestrate\"]\n",
    "for w in words:\n",
    "  print(w, len(w))"
   ]
  },
  {
   "cell_type": "markdown",
   "id": "9768d5c8",
   "metadata": {},
   "source": [
    "Or through dictionaries."
   ]
  },
  {
   "cell_type": "code",
   "execution_count": null,
   "id": "32006365",
   "metadata": {},
   "outputs": [],
   "source": [
    "age = {\"jack\" : 30,\n",
    "       \"kate\" : 24,\n",
    "       \"jane\" : 26}\n",
    "for k in age:\n",
    "  print(k)\n",
    "\n",
    "for k, val in age.items():\n",
    "  print(k, val)"
   ]
  },
  {
   "cell_type": "markdown",
   "id": "eb712f25",
   "metadata": {},
   "source": [
    "### `range` function\n",
    "\n",
    "Iteration over a sequence of numbers."
   ]
  },
  {
   "cell_type": "code",
   "execution_count": null,
   "id": "9e619310",
   "metadata": {},
   "outputs": [],
   "source": [
    "for i in range(3):\n",
    "  print(i)"
   ]
  },
  {
   "cell_type": "markdown",
   "id": "a8f4c53f",
   "metadata": {},
   "source": [
    "Try to see the documentation of the function `range`. Range can be used also with a second argument specifying the beginning of the sequence."
   ]
  },
  {
   "cell_type": "code",
   "execution_count": 10,
   "id": "e7787f5d",
   "metadata": {},
   "outputs": [
    {
     "name": "stdout",
     "output_type": "stream",
     "text": [
      "range(stop) -> range object\n",
      "range(start, stop[, step]) -> range object\n",
      "\n",
      "Return an object that produces a sequence of integers from start (inclusive)\n",
      "to stop (exclusive) by step.  range(i, j) produces i, i+1, i+2, ..., j-1.\n",
      "start defaults to 0, and stop is omitted!  range(4) produces 0, 1, 2, 3.\n",
      "These are exactly the valid indices for a list of 4 elements.\n",
      "When step is given, it specifies the increment (or decrement).\n"
     ]
    }
   ],
   "source": [
    "print(range.__doc__)"
   ]
  },
  {
   "cell_type": "code",
   "execution_count": null,
   "id": "eee99c27",
   "metadata": {},
   "outputs": [],
   "source": [
    "for i in range(5, 10):\n",
    "  print(i)"
   ]
  },
  {
   "cell_type": "markdown",
   "id": "06d25b5a",
   "metadata": {},
   "source": [
    "The third argument defines the step"
   ]
  },
  {
   "cell_type": "code",
   "execution_count": null,
   "id": "ed11768d",
   "metadata": {},
   "outputs": [],
   "source": [
    "for i in range(5, 10, 2):\n",
    "  print(i)"
   ]
  },
  {
   "cell_type": "markdown",
   "id": "bc11b5be",
   "metadata": {},
   "source": [
    "### `break` statement\n",
    "\n",
    "`break` stops the iteration of a loop."
   ]
  },
  {
   "cell_type": "code",
   "execution_count": null,
   "id": "941f4544",
   "metadata": {},
   "outputs": [],
   "source": [
    "counter = 0\n",
    "while True:\n",
    "  counter += 1\n",
    "  print(counter)\n",
    "  if counter > 5:\n",
    "    break"
   ]
  },
  {
   "cell_type": "code",
   "execution_count": 4,
   "id": "a2b6bbf3",
   "metadata": {},
   "outputs": [
    {
     "name": "stdout",
     "output_type": "stream",
     "text": [
      "7 is a prime number\n"
     ]
    }
   ],
   "source": [
    "n = 7\n",
    "is_a_prime = True\n",
    "for x in range(2, n):\n",
    "  if n % x == 0:\n",
    "    print(n, \"is not a prime number, it equals\", x, \"*\", n//x)\n",
    "    is_a_prime = False\n",
    "    break\n",
    "\n",
    "if is_a_prime:\n",
    "  print(n, \"is a prime number\")"
   ]
  },
  {
   "cell_type": "markdown",
   "id": "9b19a8b3",
   "metadata": {},
   "source": [
    "### List comprehensions\n",
    "\n",
    "A concise way to create lists through loops."
   ]
  },
  {
   "cell_type": "code",
   "execution_count": null,
   "id": "18243563",
   "metadata": {},
   "outputs": [],
   "source": [
    "squares = [x**2 for x in range(10)]\n",
    "print(squares)"
   ]
  },
  {
   "cell_type": "markdown",
   "id": "fb4fc53a",
   "metadata": {},
   "source": [
    "Which is equivalent to:"
   ]
  },
  {
   "cell_type": "code",
   "execution_count": 5,
   "id": "1087749d",
   "metadata": {},
   "outputs": [
    {
     "name": "stdout",
     "output_type": "stream",
     "text": [
      "[0, 1, 4, 9, 16, 25, 36, 49, 64, 81]\n"
     ]
    }
   ],
   "source": [
    "squares = []\n",
    "for x in range(10):\n",
    "  squares.append(x**2)\n",
    "\n",
    "print(squares)"
   ]
  },
  {
   "cell_type": "markdown",
   "id": "7e1042d9",
   "metadata": {},
   "source": [
    "Comprehensions can be as complicated as you want, including also `if` statements."
   ]
  },
  {
   "cell_type": "code",
   "execution_count": null,
   "id": "bd2cb221",
   "metadata": {},
   "outputs": [],
   "source": [
    "data = [[x, y] for x in [1, 2, 3] for y in [3, 1, 4] if x != y]\n",
    "print(data)"
   ]
  },
  {
   "cell_type": "markdown",
   "id": "99953f88",
   "metadata": {},
   "source": [
    "And can be used to create also dictionaries"
   ]
  },
  {
   "cell_type": "code",
   "execution_count": null,
   "id": "7b704936",
   "metadata": {},
   "outputs": [],
   "source": [
    "d = {x: x**2 for x in (2, 4, 6)}\n",
    "print(d)"
   ]
  },
  {
   "cell_type": "markdown",
   "id": "482b64b1",
   "metadata": {},
   "source": [
    "### Defining a function\n",
    "\n",
    "It is defined with the statement `def`. The body is indented."
   ]
  },
  {
   "cell_type": "code",
   "execution_count": null,
   "id": "5e9e769a",
   "metadata": {},
   "outputs": [],
   "source": [
    "def first_function():\n",
    "  print(\"hello\")\n",
    "\n",
    "first_function()\n",
    "f = first_function\n",
    "f()"
   ]
  },
  {
   "cell_type": "markdown",
   "id": "c1ce0d51",
   "metadata": {},
   "source": [
    "Arguments are passed through the round brackets"
   ]
  },
  {
   "cell_type": "code",
   "execution_count": null,
   "id": "d70893a7",
   "metadata": {},
   "outputs": [],
   "source": [
    "def print_my_info(name: str, nationality: str):\n",
    "  print(f\"I'm {name} from {nationality}\")\n",
    "\n",
    "print_my_info(\"Ken\", \"Mexico\")"
   ]
  },
  {
   "cell_type": "markdown",
   "id": "765a0b55",
   "metadata": {},
   "source": [
    "### <i>return</i> statement"
   ]
  },
  {
   "cell_type": "code",
   "execution_count": null,
   "id": "6abb908e",
   "metadata": {},
   "outputs": [],
   "source": [
    "def fib(n):\n",
    "  result = []\n",
    "  a, b = 0, 1\n",
    "  while a < n:\n",
    "    result.append(a)\n",
    "    a, b = b, a + b\n",
    "  return result\n",
    "\n",
    "result = fib(100)\n",
    "print(result)"
   ]
  },
  {
   "cell_type": "markdown",
   "id": "bebff075",
   "metadata": {},
   "source": [
    "It can be useful to return multiple variables"
   ]
  },
  {
   "cell_type": "code",
   "execution_count": null,
   "id": "552f9153",
   "metadata": {},
   "outputs": [],
   "source": [
    "import numpy as np\n",
    "def get_circunference_and_area_of_circle(radius: float):\n",
    "  return 2*np.pi*radius, np.pi*radius**2\n",
    "\n",
    "circ, area = get_circunference_and_area_of_circle(3)\n",
    "print(circ, area)"
   ]
  },
  {
   "cell_type": "markdown",
   "id": "6f99e562",
   "metadata": {},
   "source": [
    "### Documentation strings\n",
    "\n",
    "It is always a good habit to describe what the function does.\n",
    "It can be encoded inside the function with triple quotes:"
   ]
  },
  {
   "cell_type": "code",
   "execution_count": 8,
   "id": "cbba5b25",
   "metadata": {},
   "outputs": [
    {
     "name": "stdout",
     "output_type": "stream",
     "text": [
      "18.84955592153876 28.274333882308138\n"
     ]
    }
   ],
   "source": [
    "import numpy as np\n",
    "def get_circunference_and_area_of_circle(radius):\n",
    "  \"\"\"\n",
    "  This function computes the circumference and area of a circle given its radius\n",
    "  \"\"\"\n",
    "  return 2*np.pi*radius, np.pi*radius**2\n",
    "\n",
    "circ, area = get_circunference_and_area_of_circle(3)\n",
    "print(circ, area)"
   ]
  },
  {
   "cell_type": "markdown",
   "id": "26adca83",
   "metadata": {},
   "source": [
    "The documentation can be inspected as for built-in methods"
   ]
  },
  {
   "cell_type": "code",
   "execution_count": 9,
   "id": "e0ffdb77",
   "metadata": {},
   "outputs": [
    {
     "name": "stdout",
     "output_type": "stream",
     "text": [
      "\n",
      "  This function computes the circumference and area of a circle given its radius\n",
      "  \n"
     ]
    }
   ],
   "source": [
    "print(get_circunference_and_area_of_circle.__doc__)"
   ]
  },
  {
   "cell_type": "markdown",
   "id": "07eac6d5",
   "metadata": {},
   "source": [
    "Another way to see the documentation is to use the following method, which converts it to a string"
   ]
  },
  {
   "cell_type": "code",
   "execution_count": null,
   "id": "1a04f747",
   "metadata": {},
   "outputs": [],
   "source": [
    "print(get_circunference_and_area_of_circle.__doc__)"
   ]
  },
  {
   "cell_type": "markdown",
   "id": "e6c4017f",
   "metadata": {},
   "source": [
    "### Default arguments"
   ]
  },
  {
   "cell_type": "code",
   "execution_count": 11,
   "id": "5c5e68e6",
   "metadata": {},
   "outputs": [],
   "source": [
    "def evaluate_powers(n, power = 2, print_result = True):\n",
    "  \"\"\"\n",
    "  Evaluates the power of the first of th  n integers. The default power is the\n",
    "  square.\n",
    "  \"\"\"\n",
    "  powers = []\n",
    "  for i in range(n):\n",
    "    powers.append(i**power)\n",
    "  if print_result:\n",
    "    print(powers)\n",
    "  return powers"
   ]
  },
  {
   "cell_type": "code",
   "execution_count": 20,
   "id": "031ba725",
   "metadata": {},
   "outputs": [
    {
     "name": "stdout",
     "output_type": "stream",
     "text": [
      "[0, 1, 4, 9]\n",
      "[0, 1, 4, 9]\n",
      "[0, 1, 8, 27]\n",
      "[0, 1, 8, 27]\n",
      "[0, 1, 4, 9]\n"
     ]
    }
   ],
   "source": [
    "result = evaluate_powers(4)\n",
    "print(result)\n",
    "\n",
    "# Overriding the second default argument\n",
    "result = evaluate_powers(4, 3)\n",
    "print(result)\n",
    "result = evaluate_powers(4, print_result=False)\n",
    "print(result)"
   ]
  },
  {
   "cell_type": "markdown",
   "id": "89d9b0ea",
   "metadata": {},
   "source": [
    "## Classes\n",
    "\n",
    "### Why do we use Classes?\n",
    "\n",
    "Classes provide a means of bundling information about an object and object functions together. Creating a new class creates a new type of object, allowing new instances of that type to be made. Each class instance can have attributes attached to it. Class instances can also have methods (defined by its class) for modifying its state.\n",
    "\n",
    "To understand the need for creating a class, let’s consider an example. Let’s say you wanted to track the number of dogs which may have different attributes like breed and age. If a list is used, the first element could be the dog’s breed while the second element could represent its age. Let’s suppose there are 100 different dogs, then how would you know which element is supposed to be which? What if you wanted to add other properties to these dogs? This lacks organization and it demonstrates the need for classes.\n",
    "\n",
    "Class creates a user-defined data structure, which holds its own data members and member functions that can be accessed and used by creating an instance of that class. A class is like a blueprint for an object and how to work with it.\n",
    "\n",
    "### Creating a class\n",
    "\n",
    "\n",
    "Here are simple rules to create a class in Python:\n",
    "\n",
    "- Classes are created by keyword ```class```.\n",
    "- Attributes are the variables that belong to class.\n",
    "- Attributes are always visible and can be accessed using dot (.) operator. Eg.: Myclass.Myattribute\n",
    "- Attributes can be made not directly visible by adding a double underscore prefix to their name. Eg.: Myclass.__Hiddenattribute\n",
    "\n",
    "\n",
    "In the following example, the ```class``` keyword indicates that you are creating a class followed by the name of the class (Dog in this case).\n"
   ]
  },
  {
   "cell_type": "code",
   "execution_count": 32,
   "id": "919ad2ca",
   "metadata": {},
   "outputs": [
    {
     "name": "stdout",
     "output_type": "stream",
     "text": [
      "None\n",
      "Brown\n"
     ]
    },
    {
     "name": "stderr",
     "output_type": "stream",
     "text": [
      "play WARN alsa: can't encode 0-bit Unknown or not applicable\n",
      "\n",
      "/usr/share/sounds/gnome/default/alerts/bark.ogg:\n",
      "\n",
      " File Size: 13.3k     Bit Rate: 197k\n",
      "  Encoding: Vorbis        \n",
      "  Channels: 2 @ 16-bit   \n",
      "Samplerate: 48000Hz      \n",
      "Replaygain: off         \n",
      "  Duration: 00:00:00.54  \n",
      "\n",
      "In:100%  00:00:00.54 [00:00:00.00] Out:26.0k [      |      ] Hd:3.8 Clip:0    \n",
      "Done.\n",
      "play WARN alsa: can't encode 0-bit Unknown or not applicable\n",
      "\n",
      "/usr/share/sounds/gnome/default/alerts/bark.ogg:\n",
      "\n",
      " File Size: 13.3k     Bit Rate: 197k\n",
      "  Encoding: Vorbis        \n",
      "  Channels: 2 @ 16-bit   \n",
      "Samplerate: 48000Hz      \n",
      "Replaygain: off         \n",
      "  Duration: 00:00:00.54  \n",
      "\n",
      "In:100%  00:00:00.54 [00:00:00.00] Out:26.0k [      |      ] Hd:3.8 Clip:0    \n",
      "Done.\n"
     ]
    }
   ],
   "source": [
    "import os\n",
    "class Dog:\n",
    "  animal = \"dog\"\n",
    "\n",
    "  def __init__(self, breed) -> None:\n",
    "    self.breed = breed\n",
    "    self.color = None\n",
    "\n",
    "  def setColor(self, color) -> None:\n",
    "    self.color = color\n",
    "\n",
    "  def getColor(self) -> str:\n",
    "    return self.color\n",
    "\n",
    "  def bark(self) -> None:\n",
    "    os.system(\"play /usr/share/sounds/gnome/default/alerts/bark.ogg\")\n",
    "    os.system(\"play /usr/share/sounds/gnome/default/alerts/bark.ogg\")\n",
    "\n",
    "Kaliman = Dog(\"Chihuahua\")\n",
    "color = Kaliman.getColor()\n",
    "print(color)\n",
    "Kaliman.setColor(\"Brown\")\n",
    "color = Kaliman.getColor()\n",
    "print(color)\n",
    "Kaliman.bark()"
   ]
  },
  {
   "cell_type": "markdown",
   "id": "b0c70837",
   "metadata": {},
   "source": [
    "The ```__init__``` method is a constructor. Constructors are used to initialize the state of an object. Like methods, a constructor also contains a collection of statements (i.e. instructions) that are executed when an oject is created. It is run as soon as an object of a class is instantiated. The method is useful to do any initialization you want to do with your object.\n",
    "\n",
    "The first argument of a method is often called ```self``` which represents the instance of the class. Calling it ```self``` is just a convention, but is considered best practice. Using the ```self``` keyword, we can access the attributes and methods of the class in python.\n",
    "\n",
    "\n",
    "We do not give a value for the parameter ```self``` when we call the method, Python provides it. If we have a method which takes no arguments, then we still have to have one argument. When we call a method of this object as ```myobject.method(arg1, arg2)```, this is automatically converted by Python into ```MyClass.method(myobject, arg1, arg2)```. \n",
    "\n",
    "\n",
    "\n"
   ]
  },
  {
   "cell_type": "markdown",
   "id": "d9d890f7",
   "metadata": {},
   "source": [
    "## Reading and writing files\n",
    "\n",
    "In order to analyze data you have to first read it in to your program. Once you've performed your calculations, you may want to save it for future use. Here we will read in a data file containing observations from a Gaussian distribution of unknown mean and variance, calculate the mean and variance, and save the results to a file for future use. \n",
    "\n"
   ]
  },
  {
   "cell_type": "code",
   "execution_count": 26,
   "id": "5e7f0590",
   "metadata": {},
   "outputs": [],
   "source": [
    "import os\n",
    "curr_path = os.getcwd()\n",
    "fname = \"data.tsv\"\n",
    "in_path = os.path.join(curr_path, fname)"
   ]
  },
  {
   "cell_type": "code",
   "execution_count": 27,
   "id": "369074d4",
   "metadata": {},
   "outputs": [
    {
     "name": "stdout",
     "output_type": "stream",
     "text": [
      "Observation number\tObservation\n",
      "\n"
     ]
    }
   ],
   "source": [
    "file = open(in_path, 'r')\n",
    "header = file.readline()\n",
    "print(header)"
   ]
  },
  {
   "cell_type": "markdown",
   "id": "2a43ff33",
   "metadata": {},
   "source": [
    "So we know the data is in the second index of each line, i.e., ```line[1]```."
   ]
  },
  {
   "cell_type": "code",
   "execution_count": 28,
   "id": "879e6948",
   "metadata": {},
   "outputs": [
    {
     "name": "stdout",
     "output_type": "stream",
     "text": [
      "Mean =  3.042112833945\n",
      "Variance =  1.0535919965442606\n"
     ]
    }
   ],
   "source": [
    "data = []\n",
    "for line in file:\n",
    "  line = line.strip()\n",
    "  line = line.split(\"\\t\")\n",
    "  line_data = float(line[1])\n",
    "  data.append(line_data)\n",
    "\n",
    "mean_data = sum(data)/len(data)\n",
    "variance_data = sum([(data_i -mean_data)**2 for data_i in data])/len(data)\n",
    "print(\"Mean = \", mean_data)\n",
    "print(\"Variance = \", variance_data)"
   ]
  },
  {
   "cell_type": "markdown",
   "id": "b00328a1",
   "metadata": {},
   "source": [
    "Alternatively, you could open the file with a ```with``` command and Python will automatically close the file once it has looped through all the lines, but you will need to add a statement to make sure Python ignores the header in your file."
   ]
  },
  {
   "cell_type": "code",
   "execution_count": 29,
   "id": "478da812",
   "metadata": {},
   "outputs": [
    {
     "data": {
      "text/plain": [
       "True"
      ]
     },
     "execution_count": 29,
     "metadata": {},
     "output_type": "execute_result"
    }
   ],
   "source": [
    "with open(in_path, 'r') as f:\n",
    "  read_data = f.read()\n",
    "\n",
    "f.closed"
   ]
  },
  {
   "cell_type": "markdown",
   "id": "4e45291c",
   "metadata": {},
   "source": [
    "Now let's save the results of your calculation. Here the argument ```'w'``` means \"write\" and ```%``` is an operator to convert the float to a string"
   ]
  },
  {
   "cell_type": "code",
   "execution_count": 30,
   "id": "bcaa883b",
   "metadata": {},
   "outputs": [
    {
     "data": {
      "text/plain": [
       "False"
      ]
     },
     "execution_count": 30,
     "metadata": {},
     "output_type": "execute_result"
    }
   ],
   "source": [
    "fname = \"processed_data.tsv\"\n",
    "out_path = os.path.join(curr_path, fname)\n",
    "fout = open(out_path, 'w')\n",
    "fout.write(\"Mean\\tVariance\\n\")\n",
    "fout.write(f\"{mean_data}\\t{variance_data}\\n\")\n",
    "fout.closed"
   ]
  },
  {
   "cell_type": "code",
   "execution_count": null,
   "id": "70d0a3c9",
   "metadata": {},
   "outputs": [],
   "source": []
  }
 ],
 "metadata": {
  "kernelspec": {
   "display_name": "Python 3.10.4 64-bit",
   "language": "python",
   "name": "python3"
  },
  "language_info": {
   "codemirror_mode": {
    "name": "ipython",
    "version": 3
   },
   "file_extension": ".py",
   "mimetype": "text/x-python",
   "name": "python",
   "nbconvert_exporter": "python",
   "pygments_lexer": "ipython3",
   "version": "3.10.4"
  },
  "vscode": {
   "interpreter": {
    "hash": "916dbcbb3f70747c44a77c7bcd40155683ae19c65e1c03b4aa3499c5328201f1"
   }
  }
 },
 "nbformat": 4,
 "nbformat_minor": 5
}
